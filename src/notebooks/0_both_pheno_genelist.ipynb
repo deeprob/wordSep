{
 "cells": [
  {
   "cell_type": "code",
   "execution_count": null,
   "metadata": {},
   "outputs": [],
   "source": [
    "import pandas as pd"
   ]
  },
  {
   "cell_type": "code",
   "execution_count": null,
   "metadata": {},
   "outputs": [],
   "source": [
    "both_pheno_genes_file = \"/data5/deepro/ukbiobank/analysis/bmi_project/bmi_genes_enrichment/data/partner_genes/both_pheno.txt\"\n",
    "bmi_genes_file = \"/data5/deepro/ukbiobank/analysis/bmi_project/bmi_gene_desc_nlp/data/BMI_Genes.xlsx\"\n",
    "gencode_file = '/data5/bx_reference/hg38/annotations/gene_annotations/GENCODE39/gencode.v39.parsed.genes.tsv'"
   ]
  },
  {
   "cell_type": "code",
   "execution_count": null,
   "metadata": {},
   "outputs": [],
   "source": []
  },
  {
   "cell_type": "code",
   "execution_count": null,
   "metadata": {},
   "outputs": [],
   "source": [
    "gencode = pd.read_csv(filename, sep='\\t', low_memory=False)\n",
    "gencode[\"gene_id_stripped\"] = gencode[\"gene_id\"].str.split(\".\", expand=True)[0]"
   ]
  }
 ],
 "metadata": {
  "kernelspec": {
   "display_name": "Python 3.9.7 ('starrseq': conda)",
   "language": "python",
   "name": "python3"
  },
  "language_info": {
   "name": "python",
   "version": "3.9.7"
  },
  "orig_nbformat": 4,
  "vscode": {
   "interpreter": {
    "hash": "06856c2527dea3cf472b3c4994ec564df76496982852535c5a9520cd26601212"
   }
  }
 },
 "nbformat": 4,
 "nbformat_minor": 2
}
